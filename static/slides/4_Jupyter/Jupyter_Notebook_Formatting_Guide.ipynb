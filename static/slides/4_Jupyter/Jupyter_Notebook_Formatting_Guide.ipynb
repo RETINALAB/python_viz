{
 "cells": [
  {
   "cell_type": "markdown",
   "id": "760364f7",
   "metadata": {},
   "source": [
    "# Jupyter Notebook Formatting Guide\n",
    "\n",
    "Dr. Priyanga D. Talagala\n",
    "\n",
    "IASSL Workshop on Data visualization with R and Python\n",
    "\n",
    "25/5/2023\n",
    "\n",
    "## Introduction\n",
    "\n",
    "This tutorial provides a brief overview of Jupyter Notebook and covers some essential formatting options."
   ]
  },
  {
   "cell_type": "markdown",
   "id": "c3dfd470",
   "metadata": {},
   "source": [
    "### Heading\n",
    "\n",
    "To insert a heading, use the symbol, #, followed by a space and the heading text. The number of # indicates the heading level. \n",
    "\n",
    "\n",
    "For example:\n",
    "\n",
    "   `# This is a level 1 heading`\n",
    "   \n",
    "   `## This is a level 2 heading`\n",
    "   \n",
    "   `### This is a level 3 heading`\n",
    "  \n",
    "This will provide you with the following output:\n",
    "   \n",
    "# This is a level 1 heading\n",
    "   \n",
    "## This is a level 2 heading\n",
    "  \n",
    "### This is a level 3 heading"
   ]
  },
  {
   "cell_type": "markdown",
   "id": "5ce082a8",
   "metadata": {},
   "source": [
    "### Paragraph\n",
    "\n",
    "To insert a paragraph, simply write the text in a separate markdown cell without any special formatting. \n",
    "\n",
    "For example:\n",
    "This is a paragraph of text. Jupyter Notebook allows you to write and execute code, create visualizations, and document your work.\n",
    "\n",
    "`This is some plain text that forms a paragraph. Add emphasis via **bold** and __bold__, or *italic* and _italic_.`\n",
    "\n",
    "This will provide you with the following output:\n",
    "\n",
    "This is some plain text that forms a paragraph. Add emphasis via **bold** and __bold__, or *italic* and _italic_.\n",
    "\n",
    "Paragraphs must be separated by an empty line. "
   ]
  },
  {
   "cell_type": "markdown",
   "id": "1d23ac1f",
   "metadata": {},
   "source": [
    "### Code Chunk\n",
    "\n",
    "To insert a code chunk, use code cells in Jupyter Notebook. You can either create a new code cell or convert an existing cell to a code cell. For example:"
   ]
  },
  {
   "cell_type": "code",
   "execution_count": 7,
   "id": "08c1df03",
   "metadata": {},
   "outputs": [
    {
     "name": "stdout",
     "output_type": "stream",
     "text": [
      "5\n"
     ]
    }
   ],
   "source": [
    "# This is a code chunk\n",
    "x = 5\n",
    "print(x)"
   ]
  },
  {
   "cell_type": "markdown",
   "id": "88844792",
   "metadata": {},
   "source": [
    "### Bullet Points\n",
    "\n",
    "To insert bullet points, use an asterisk (*) followed by a space before each point. \n",
    "\n",
    "For example:\n",
    "\n",
    "  `* First point`\n",
    "  \n",
    "  `* Second point`\n",
    "  \n",
    "  `* Third point`\n",
    "  \n",
    "This will provide you with the following list:\n",
    "  \n",
    "* First point\n",
    "* Second point\n",
    "* Third point\n",
    "\n",
    "\n",
    "  `1. Lists can also be numbered.` \n",
    "\n",
    "  `2. If we want an ordered list.`\n",
    "  \n",
    "This will provide you with the following numbered list:\n",
    "\n",
    "1. Lists can also be numbered. \n",
    "2. If we want an ordered list.\n",
    "\n",
    "You can also create a nested bullet list by adding additional indentation to the list items. Here's an example:\n",
    "\n",
    "  `- Item 1`\n",
    "\n",
    "     - Subitem 1\n",
    "   \n",
    "     - Subitem 2\n",
    "   \n",
    "   `- Item 2`\n",
    "\n",
    "This will provide you with the following nested bullet list:\n",
    "- Item 1\n",
    "  - Subitem 1\n",
    "  - Subitem 2\n",
    "- Item 2"
   ]
  },
  {
   "cell_type": "markdown",
   "id": "672eecaa",
   "metadata": {},
   "source": [
    "### Image\n",
    "\n",
    "To insert an image, you need to have the image file in the same directory as your notebook. Use the following syntax to display the image:\n",
    "\n",
    "`![Alt Text](image.jpg)`\n",
    "\n",
    "Replace `Alt Text` with a descriptive alternative text for the image and `image.jpg` with the actual filename and extension of the image.\n",
    "\n",
    "For example::\n",
    "\n",
    "`![jupyter.png](fig/jupyter.png)`\n",
    "\n",
    "![jupyter.png](fig/jupyter.png)\n"
   ]
  },
  {
   "cell_type": "markdown",
   "id": "e997615e",
   "metadata": {},
   "source": [
    "To change the size of an image in a Jupyter Notebook, you can use HTML syntax within a Markdown cell. Here's how you can do it:\n",
    "\n",
    "1. Place the image file in the same directory as your notebook or provide the correct file path if it's located elsewhere.\n",
    "\n",
    "2. Insert an image in a Markdown cell using the following syntax:\n",
    "\n",
    "`<img src=\"path_to_image\" alt=\"Image\" width=\"300\" height=\"200\">`\n",
    "\n",
    "Replace `path_to_image` with the actual file path or filename of the image. Adjust the width and height attributes according to your desired dimensions. You can specify either the width or height and the image will scale proportionally.\n",
    "\n",
    "Alternatively, you can specify the size using CSS by adding a style attribute, like this:\n",
    "\n",
    "`<img src=\"path_to_image.jpg\" alt=\"Image\" style=\"width:300px;height:200px;\">`\n",
    "\n",
    "3. Run the Markdown cell to display the image with the new size.\n",
    "\n",
    "For example:\n",
    "\n",
    "`<img src=\"fig/jupyter.png\" alt=\"Image\" width=\"300\" height=\"200\">`\n",
    "\n",
    "<img src=\"fig/jupyter.png\" alt=\"Image\" width=\"300\" height=\"200\">\n",
    "\n"
   ]
  },
  {
   "cell_type": "markdown",
   "id": "ed991fbb",
   "metadata": {},
   "source": [
    "### Table\n",
    "\n",
    "\n",
    "To insert a table, you can use Markdown syntax with the pipe (|) character to separate columns and hyphens (-) to define the table header. \n",
    "\n",
    "For example:\n",
    "\n",
    "`| Column 1 | Column 2 |`\n",
    "\n",
    "`|----------|----------|`\n",
    "\n",
    "`| Value 1  | Value 2  |`\n",
    "\n",
    "`| Value 3  | Value 4  |`\n",
    "\n",
    "This will provide you with the following table:\n",
    "\n",
    "\n",
    "| Column 1 | Column 2 |\n",
    "|----------|----------|\n",
    "| Value 1  | Value 2  |\n",
    "| Value 3  | Value 4  |"
   ]
  },
  {
   "cell_type": "markdown",
   "id": "f179b280",
   "metadata": {},
   "source": [
    "### Link\n",
    "\n",
    "To insert a hyperlink, use the following syntax:\n",
    "\n",
    "`[Link Text](https://www.example.com)`\n",
    "\n",
    "Replace Link Text with the text you want to display as the hyperlink and https://www.example.com with the actual URL.\n",
    "\n",
    "For example:\n",
    "\n",
    "`[Workshop website](https://pythonandr.netlify.app/about/)`\n",
    "\n",
    "This will provide you with the following output:\n",
    "\n",
    "[Workshop website](https://pythonandr.netlify.app/about/)"
   ]
  },
  {
   "cell_type": "markdown",
   "id": "507861de",
   "metadata": {},
   "source": [
    "### LaTeX Equations\n",
    "\n",
    "To insert mathematical equations or formulas using LaTeX syntax, enclose the equation within dollar signs $. \n",
    "\n",
    "For example:\n",
    "\n",
    "`The quadratic equation is given by $ax^2 + bx + c = 0$.`\n",
    "\n",
    "The quadratic equation is given by $ax^2 + bx + c = 0$.\n",
    "\n",
    "\n",
    "\n"
   ]
  }
 ],
 "metadata": {
  "kernelspec": {
   "display_name": "Python 3 (ipykernel)",
   "language": "python",
   "name": "python3"
  },
  "language_info": {
   "codemirror_mode": {
    "name": "ipython",
    "version": 3
   },
   "file_extension": ".py",
   "mimetype": "text/x-python",
   "name": "python",
   "nbconvert_exporter": "python",
   "pygments_lexer": "ipython3",
   "version": "3.11.1"
  }
 },
 "nbformat": 4,
 "nbformat_minor": 5
}
