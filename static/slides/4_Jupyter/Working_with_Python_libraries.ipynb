{
 "cells": [
  {
   "cell_type": "markdown",
   "id": "59f0c055",
   "metadata": {},
   "source": [
    "# Working with Python libraries\n",
    "Dr. Priynaga D. Talagala\n",
    "\n",
    "25-5-2023"
   ]
  },
  {
   "cell_type": "markdown",
   "id": "75bb1dd9",
   "metadata": {},
   "source": [
    "### Step 1: Install a pip package in the current Jupyter kernel\n",
    "\n",
    "To install Python libraries, we use pip command on the command line console of the Operating System. In Jupyter, the console commands can be executed by the ‘!’ sign before the command within the cell. It is recommended to use sys library in Python which will return the path of the current version’s pip on which the jupyter is running. \n",
    "\n",
    "`Syntax:`\n",
    "\n",
    "`import sys`\n",
    "\n",
    "`!{sys.executable} -m pip install [package_name]`\n",
    "\n",
    "By the above code, the package will be installed in the same Python version on which the jupyter notebook is running."
   ]
  },
  {
   "cell_type": "code",
   "execution_count": 60,
   "id": "0d29f54e",
   "metadata": {},
   "outputs": [],
   "source": [
    "# This is a comment\n",
    "# import sys\n",
    "# !{sys.executable} -m pip install pandas\n",
    "# !{sys.executable} -m pip install palmerpenguins\n",
    "# !{sys.executable} -m pip install matplotlib\n",
    "# !{sys.executable} -m pip install seaborn"
   ]
  },
  {
   "cell_type": "markdown",
   "id": "bd0ca213",
   "metadata": {},
   "source": [
    "### Step 2: Importing libraries and dataset\n",
    "\n",
    "Once a library is installed, *import* it in to your application by adding the `import` module statement\n",
    "\n",
    "1. `import [package_name]`\n",
    "\n",
    "    Typying `package_name.foo` in your code can be tedious. Tedium can be minimized by using \n",
    "    `import [package_name] as [pkg] ` then typing `pkg.foo`.\n",
    "    \n",
    "Or \n",
    "\n",
    "2. `from  [package_name] import [foo]`\n",
    "    \n",
    "    Here to use another item from the module, you have to update your `import` statement.\n",
    "\n",
    "\n",
    "Let's start by importing Pandas, which is a great library for managing relational (i.e. table-format) datasets: "
   ]
  },
  {
   "cell_type": "code",
   "execution_count": 61,
   "id": "aa391a61",
   "metadata": {},
   "outputs": [],
   "source": [
    "# Pandas for managing datasets\n",
    "# By convention, it is imported with the shorthand pd.\n",
    "import pandas as pd"
   ]
  },
  {
   "cell_type": "markdown",
   "id": "7cbae608",
   "metadata": {},
   "source": [
    "Next, we'll import Matplotlib, which will help us customize our plots further. It provides simple codes to visualize complex statistical plots, which also happen to be aesthetically pleasing. Further, Seaborn was built on top of Matplotlib, meaning it can be further powered up with Matplotlib functionalities."
   ]
  },
  {
   "cell_type": "code",
   "execution_count": 62,
   "id": "6e92f245",
   "metadata": {},
   "outputs": [],
   "source": [
    "# Matplotlib for additional customization\n",
    "# Matplotlib is the whole package; pylab is a module in matplotlib.\n",
    "# By convention, it is imported with the shorthand plt.\n",
    "from matplotlib import pyplot as plt\n",
    "\n",
    "# Alternative way\n",
    "# import matplotlib.pyplot as plt \n",
    "# It is generally customary to use `import matplotlib.pyplot as plt` \n",
    "# and suggested in the matplotlib documentation."
   ]
  },
  {
   "cell_type": "markdown",
   "id": "ff153b14",
   "metadata": {},
   "source": [
    "Then, we'll import the Seaborn library. Seaborn is a data visualization library built on top of matplotlib and closely integrated with pandas data structures in Python."
   ]
  },
  {
   "cell_type": "code",
   "execution_count": 63,
   "id": "0f1c688f",
   "metadata": {},
   "outputs": [],
   "source": [
    "# Seaborn for plotting and styling\n",
    "# By convention, it is imported with the shorthand sns.\n",
    "import seaborn as sns\n"
   ]
  },
  {
   "cell_type": "markdown",
   "id": "c79a4cbc",
   "metadata": {},
   "source": [
    "Tip: we gave each of our imported libraries an alias. Later, we can invoke Pandas with pd, Matplotlib with plt, and Seaborn with sns."
   ]
  },
  {
   "cell_type": "markdown",
   "id": "01ca6042",
   "metadata": {},
   "source": [
    "Now we're ready to import our dataset. You can import your CSV file using Pandas."
   ]
  },
  {
   "cell_type": "code",
   "execution_count": 64,
   "id": "d7a46015",
   "metadata": {},
   "outputs": [],
   "source": [
    "# Import dataset\n",
    "df = pd.read_csv(\"data/titanic.csv\")"
   ]
  },
  {
   "cell_type": "markdown",
   "id": "b4ae661b",
   "metadata": {},
   "source": [
    "Here's what the dataset looks like:"
   ]
  },
  {
   "cell_type": "code",
   "execution_count": 65,
   "id": "8fbabf19",
   "metadata": {},
   "outputs": [
    {
     "data": {
      "text/html": [
       "<div>\n",
       "<style scoped>\n",
       "    .dataframe tbody tr th:only-of-type {\n",
       "        vertical-align: middle;\n",
       "    }\n",
       "\n",
       "    .dataframe tbody tr th {\n",
       "        vertical-align: top;\n",
       "    }\n",
       "\n",
       "    .dataframe thead th {\n",
       "        text-align: right;\n",
       "    }\n",
       "</style>\n",
       "<table border=\"1\" class=\"dataframe\">\n",
       "  <thead>\n",
       "    <tr style=\"text-align: right;\">\n",
       "      <th></th>\n",
       "      <th>PassengerId</th>\n",
       "      <th>Survived</th>\n",
       "      <th>Pclass</th>\n",
       "      <th>Name</th>\n",
       "      <th>Sex</th>\n",
       "      <th>Age</th>\n",
       "      <th>SibSp</th>\n",
       "      <th>Parch</th>\n",
       "      <th>Ticket</th>\n",
       "      <th>Fare</th>\n",
       "      <th>Cabin</th>\n",
       "      <th>Embarked</th>\n",
       "    </tr>\n",
       "  </thead>\n",
       "  <tbody>\n",
       "    <tr>\n",
       "      <th>0</th>\n",
       "      <td>1</td>\n",
       "      <td>0</td>\n",
       "      <td>3</td>\n",
       "      <td>Braund, Mr. Owen Harris</td>\n",
       "      <td>male</td>\n",
       "      <td>22.0</td>\n",
       "      <td>1</td>\n",
       "      <td>0</td>\n",
       "      <td>A/5 21171</td>\n",
       "      <td>7.2500</td>\n",
       "      <td>NaN</td>\n",
       "      <td>S</td>\n",
       "    </tr>\n",
       "    <tr>\n",
       "      <th>1</th>\n",
       "      <td>2</td>\n",
       "      <td>1</td>\n",
       "      <td>1</td>\n",
       "      <td>Cumings, Mrs. John Bradley (Florence Briggs Th...</td>\n",
       "      <td>female</td>\n",
       "      <td>38.0</td>\n",
       "      <td>1</td>\n",
       "      <td>0</td>\n",
       "      <td>PC 17599</td>\n",
       "      <td>71.2833</td>\n",
       "      <td>C85</td>\n",
       "      <td>C</td>\n",
       "    </tr>\n",
       "    <tr>\n",
       "      <th>2</th>\n",
       "      <td>3</td>\n",
       "      <td>1</td>\n",
       "      <td>3</td>\n",
       "      <td>Heikkinen, Miss. Laina</td>\n",
       "      <td>female</td>\n",
       "      <td>26.0</td>\n",
       "      <td>0</td>\n",
       "      <td>0</td>\n",
       "      <td>STON/O2. 3101282</td>\n",
       "      <td>7.9250</td>\n",
       "      <td>NaN</td>\n",
       "      <td>S</td>\n",
       "    </tr>\n",
       "    <tr>\n",
       "      <th>3</th>\n",
       "      <td>4</td>\n",
       "      <td>1</td>\n",
       "      <td>1</td>\n",
       "      <td>Futrelle, Mrs. Jacques Heath (Lily May Peel)</td>\n",
       "      <td>female</td>\n",
       "      <td>35.0</td>\n",
       "      <td>1</td>\n",
       "      <td>0</td>\n",
       "      <td>113803</td>\n",
       "      <td>53.1000</td>\n",
       "      <td>C123</td>\n",
       "      <td>S</td>\n",
       "    </tr>\n",
       "    <tr>\n",
       "      <th>4</th>\n",
       "      <td>5</td>\n",
       "      <td>0</td>\n",
       "      <td>3</td>\n",
       "      <td>Allen, Mr. William Henry</td>\n",
       "      <td>male</td>\n",
       "      <td>35.0</td>\n",
       "      <td>0</td>\n",
       "      <td>0</td>\n",
       "      <td>373450</td>\n",
       "      <td>8.0500</td>\n",
       "      <td>NaN</td>\n",
       "      <td>S</td>\n",
       "    </tr>\n",
       "  </tbody>\n",
       "</table>\n",
       "</div>"
      ],
      "text/plain": [
       "   PassengerId  Survived  Pclass  \\\n",
       "0            1         0       3   \n",
       "1            2         1       1   \n",
       "2            3         1       3   \n",
       "3            4         1       1   \n",
       "4            5         0       3   \n",
       "\n",
       "                                                Name     Sex   Age  SibSp  \\\n",
       "0                            Braund, Mr. Owen Harris    male  22.0      1   \n",
       "1  Cumings, Mrs. John Bradley (Florence Briggs Th...  female  38.0      1   \n",
       "2                             Heikkinen, Miss. Laina  female  26.0      0   \n",
       "3       Futrelle, Mrs. Jacques Heath (Lily May Peel)  female  35.0      1   \n",
       "4                           Allen, Mr. William Henry    male  35.0      0   \n",
       "\n",
       "   Parch            Ticket     Fare Cabin Embarked  \n",
       "0      0         A/5 21171   7.2500   NaN        S  \n",
       "1      0          PC 17599  71.2833   C85        C  \n",
       "2      0  STON/O2. 3101282   7.9250   NaN        S  \n",
       "3      0            113803  53.1000  C123        S  \n",
       "4      0            373450   8.0500   NaN        S  "
      ]
     },
     "execution_count": 65,
     "metadata": {},
     "output_type": "execute_result"
    }
   ],
   "source": [
    "# Display first 5 observations\n",
    "df.head()"
   ]
  },
  {
   "cell_type": "code",
   "execution_count": 67,
   "id": "9f24faf0",
   "metadata": {},
   "outputs": [
    {
     "data": {
      "text/plain": [
       "count    714.000000\n",
       "mean      29.699118\n",
       "std       14.526497\n",
       "min        0.420000\n",
       "25%       20.125000\n",
       "50%       28.000000\n",
       "75%       38.000000\n",
       "max       80.000000\n",
       "Name: Age, dtype: float64"
      ]
     },
     "execution_count": 67,
     "metadata": {},
     "output_type": "execute_result"
    }
   ],
   "source": [
    "# summary statistics\n",
    "df.Age.describe()"
   ]
  },
  {
   "cell_type": "code",
   "execution_count": null,
   "id": "18c8ea3a",
   "metadata": {},
   "outputs": [],
   "source": [
    "# Tip : \n",
    "# to get the help page\n",
    "# help(df.describe)"
   ]
  }
 ],
 "metadata": {
  "kernelspec": {
   "display_name": "Python 3 (ipykernel)",
   "language": "python",
   "name": "python3"
  },
  "language_info": {
   "codemirror_mode": {
    "name": "ipython",
    "version": 3
   },
   "file_extension": ".py",
   "mimetype": "text/x-python",
   "name": "python",
   "nbconvert_exporter": "python",
   "pygments_lexer": "ipython3",
   "version": "3.11.1"
  }
 },
 "nbformat": 4,
 "nbformat_minor": 5
}
